{
  "cells": [
    {
      "cell_type": "markdown",
      "metadata": {
        "id": "-zlxTm2ORb6A"
      },
      "source": [
        "Nandini Bagherwal of 6th june batch"
      ]
    },
    {
      "cell_type": "markdown",
      "metadata": {
        "id": "j-QyJ6n41iSm"
      },
      "source": [
        "Q1. Mention some of the advantages of python?\n",
        "\n",
        "\n",
        "Ans. Python is an easy to understand and learn programming language and has a lot of libraries which we can import to perform endless tasks like machine learning, data science and implement AI models. It is also free to use and is open source.\n"
      ]
    },
    {
      "cell_type": "markdown",
      "metadata": {
        "id": "XFAjc1_m2boo"
      },
      "source": [
        "Q2. What are local variables and global variables in Python?\n",
        "\n",
        "Ans. Local variables are variables that are declared within a particular scope, e.g. a function and are accessible only there. Global variables on the other hand are accessible throughout the program as they are declared outside any local scope.\n",
        "\n",
        "e.g.\n",
        "\n",
        "\n",
        "```\n",
        "a=5\n",
        "\n",
        "def func:\n",
        "  b=7\n",
        "  return\n",
        "```\n",
        "\n",
        "Here a is a global variable and can be accessed anywhere, including in the function func, whereas b is a local variable and is local to the function func, i.e. it can be accessed only within func."
      ]
    },
    {
      "cell_type": "markdown",
      "metadata": {
        "id": "SDt2AyFf3SXT"
      },
      "source": [
        "Q3. What is Lambda Functions in Python?\n",
        "\n",
        "Ans. Lambda functions are functions without names that can be written in a single line.\n",
        "\n",
        "e.g.\n",
        "\n",
        "\n",
        "```\n",
        "c=lambda a,b : a+b\n",
        "c(6,3)\n",
        "```\n",
        "The output will be 9 as this lambda function adds the given two arguments.\n"
      ]
    },
    {
      "cell_type": "markdown",
      "metadata": {
        "id": "90sVRLHT3Sgy"
      },
      "source": [
        "Q4. What is a Negative Index in Python?\n",
        "\n",
        "Ans. Negative index is index from the last element of the object we are indexing instead of the first. So, for e.g. if we have a list a = [10,22,13,44,65], then a[-1] will give us 65 and a[-2] will give us 44."
      ]
    },
    {
      "cell_type": "markdown",
      "metadata": {
        "id": "uN83xMF_4pmD"
      },
      "source": [
        "Q5. What is the difference between tuples and lists?\n",
        "\n",
        "Ans. Tuples are similar to lists but are unchangable, i.e. we cannot add/remove elements and cannot change the values of elements inside the tuples.\n",
        "On the other hand, lists can append new elements, remove existing ones and change values of existing elements too.\n",
        "\n",
        "Also, tuples are denoted by () and lists by []."
      ]
    },
    {
      "cell_type": "markdown",
      "metadata": {
        "id": "egYrfm8D5DPU"
      },
      "source": [
        "Q6. What is a dynamically typed language?\n",
        "\n",
        "A dynamically typed language is one where the data type of a variable is determined automatically when the program is run, rather than the programmer explicitly providing the data type of the variable they are declaring.\n",
        "\n",
        "Python is an example. e.g. if in Python we write a = \"abcd\", then the data type of a is automatically determined as string, rather than us having to state that."
      ]
    },
    {
      "cell_type": "markdown",
      "metadata": {
        "id": "dTRKdd1W5pE2"
      },
      "source": [
        "Q7. What are the data types available in python? Brief about it?\n",
        "\n",
        "int: integers, i.e. ...,-4,-3,-2,-1,0,1,2,3,4,...\n",
        "\n",
        "str: strings (sequence of characters), enclosed by single or double quotes\n",
        "\n",
        "bool: True or False logical variables\n",
        "\n",
        "list: collection of elements of various data types, and can be changed, denoted by []\n",
        "\n",
        "tuple: collection of elements of various data types, that cannot be changed, denoted by ()\n",
        "\n",
        "dict: short for dictionary, collection of key-value pairs, denoted by {} with key-value pairs represented as key:value\n",
        "\n",
        "set: unordered, unchangeable collection of unique elements, denoted by {}, new elements can be added/removed"
      ]
    },
    {
      "cell_type": "markdown",
      "metadata": {
        "id": "UlPMcF_U7KNY"
      },
      "source": [
        "Q8. Why we have to use functions in Python? Explain with an example?\n",
        "\n",
        "Ans. We need to use functions for tasks that we have to perform again and again, so that we do not need to retype the same code every time but can call the corresponding function instead.\n",
        "\n",
        "e.g. the following function combines the two lists given to it and returns the resulting list."
      ]
    },
    {
      "cell_type": "code",
      "execution_count": 6,
      "metadata": {
        "colab": {
          "base_uri": "https://localhost:8080/"
        },
        "id": "mD6mSaTl6ARU",
        "outputId": "4e14ddcc-6d91-4d68-ba12-a7f6462f7f17"
      },
      "outputs": [
        {
          "data": {
            "text/plain": [
              "[1, 2, 3, 'a', 'b', 'c']"
            ]
          },
          "execution_count": 6,
          "metadata": {},
          "output_type": "execute_result"
        }
      ],
      "source": [
        "def combine_lists (a,b):\n",
        "  c=list()\n",
        "  for i in a:\n",
        "    c.append(i)\n",
        "  for i in b:\n",
        "    c.append(i)\n",
        "  return c\n",
        "\n",
        "a=[1,2,3]\n",
        "b=['a','b','c']\n",
        "c=combine_lists(a,b)\n",
        "c"
      ]
    },
    {
      "cell_type": "markdown",
      "metadata": {
        "id": "Bx7O9N_d8Ply"
      },
      "source": [
        "Q9. What is the difference between function and generators? Give an example?\n",
        "\n",
        "Ans. Generators are like functions but instead of return they use yield, which appends elements to the generator object which is then returned. We can use for loop to iterate through the returned generator object.\n",
        "\n",
        "They are advantageous over functions when the input is very large, as functions will take a lot of time and memory but generators will display the output in the console only, consuming much lesser time and memory. Functions will compute the entire thing before returning, but generators will go one element at a time.\n",
        "\n",
        "e.g.\n",
        "\n",
        "\n",
        "```\n",
        "def gen(n):\n",
        "  for i in range(n):\n",
        "    yield i\n",
        "```\n",
        "\n",
        "This generator will generate a sequence of the first n whole numbers\n",
        "\n"
      ]
    },
    {
      "cell_type": "code",
      "execution_count": 16,
      "metadata": {
        "colab": {
          "base_uri": "https://localhost:8080/"
        },
        "id": "kob8PMet-HIZ",
        "outputId": "55b81be9-6ac7-4c9c-d518-1516711f4d91"
      },
      "outputs": [
        {
          "name": "stdout",
          "output_type": "stream",
          "text": [
            "0\n",
            "1\n",
            "2\n",
            "3\n",
            "4\n"
          ]
        }
      ],
      "source": [
        "def gen(n):\n",
        "  for i in range(n):\n",
        "    yield i\n",
        "\n",
        "a = gen(5)\n",
        "for i in a:\n",
        "  print (i)"
      ]
    },
    {
      "cell_type": "markdown",
      "metadata": {
        "id": "JIg4fKxb-isH"
      },
      "source": [
        "Q10. Explain brief about conditional statements with an example?\n",
        "\n",
        "Ans. Conditional statements are statements that check whether or not the given condition is true, and based on whether it is true or false, it runs the corresponding block of code.\n",
        "\n",
        "e.g. in the following code the conditional statement checks the condition a < 5. As a is 10, so the condition is false, and it goes to the 'else' part and computes that. If it was true it would have computed the first block instead."
      ]
    },
    {
      "cell_type": "code",
      "execution_count": 17,
      "metadata": {
        "colab": {
          "base_uri": "https://localhost:8080/"
        },
        "id": "ogWLTbYZ_Nvx",
        "outputId": "e2b556a3-f4cf-415a-e2db-11542c4292ac"
      },
      "outputs": [
        {
          "name": "stdout",
          "output_type": "stream",
          "text": [
            "This prints if the statement is false\n"
          ]
        }
      ],
      "source": [
        "a = 10\n",
        "if (a<5):\n",
        "  print('This prints if the statement is true')\n",
        "else:\n",
        "  print('This prints if the statement is false')"
      ]
    },
    {
      "cell_type": "markdown",
      "metadata": {
        "id": "uJT272dG-jv8"
      },
      "source": [
        "Q11. Why we have to use exceptional handling in python? What are the keyword used to handle the error , give one example?\n",
        "\n",
        "Ans. We use exception handling to handle cases where an abnormal event occurs, i.e. an exception occurs, that can crash the program. This could be an input that should not be entered, like making the divisor in a division 0, or a size for a list so large that it isn't possible to make that list due to memory limitations. To avoid crashing the program, we use exception handling to handle these exceptions and ask the user to retry, or do not compute that line, etc.\n",
        "\n",
        "The keywords used are try to check for exceptions and except to handle the exception, and raise can also be used to raise a specific error.\n",
        "\n",
        "e.g. the following code is for division in which the code handles the case where the division doesn't happen successfully, like in the case the user enters 0 as the divisor, and asks them to retry."
      ]
    },
    {
      "cell_type": "code",
      "execution_count": 3,
      "metadata": {
        "colab": {
          "base_uri": "https://localhost:8080/"
        },
        "id": "CKA1IDvaAMOr",
        "outputId": "bd1de07d-243a-48ab-dc1e-c222d0035d29"
      },
      "outputs": [
        {
          "name": "stdout",
          "output_type": "stream",
          "text": [
            "Dividend: 25\n",
            "Divisor: 0\n",
            "Error. Try again\n",
            "Dividend: 25\n",
            "Divisor: 5\n",
            "25 / 5 = 5.0\n"
          ]
        }
      ],
      "source": [
        "while True:\n",
        "  try:\n",
        "    a=int(input('Dividend: '))\n",
        "    b=int(input('Divisor: '))\n",
        "    print(a,'/2',b,'=',a/b)\n",
        "    break\n",
        "  except:\n",
        "    print('Error. Try again')"
      ]
    },
    {
      "cell_type": "markdown",
      "metadata": {
        "id": "ftLgb4pOBmMa"
      },
      "source": [
        "Q12. Define class and objects with an example?\n",
        "\n",
        "Ans. Classes are user defined data types that can have their own members and functions, which can be used to keep related functions together and data together for a specific purpose. e.g. we can make a student class which can have student details as members, e.g. name and email, along with functions like register for a course, etc.\n",
        "\n",
        "Objects are instances of classes. Thus, if we define the student class described above and then make a variable of student type, then that variable is an object of student type.\n",
        "\n",
        "e.g."
      ]
    },
    {
      "cell_type": "code",
      "execution_count": 5,
      "metadata": {
        "colab": {
          "base_uri": "https://localhost:8080/"
        },
        "id": "6uq7wko4DHTb",
        "outputId": "64be1425-ab6f-4c97-b666-8e6ff706cb32"
      },
      "outputs": [
        {
          "name": "stdout",
          "output_type": "stream",
          "text": [
            "Priyam abc@xyz.com\n"
          ]
        }
      ],
      "source": [
        "class student:\n",
        "  def __init__(self,name,email):\n",
        "    self.name=name\n",
        "    self.email=email\n",
        "\n",
        "s = student('Priyam','abc@xyz.com')\n",
        "print(s.name,s.email)"
      ]
    },
    {
      "cell_type": "code",
      "execution_count": 10,
      "metadata": {
        "colab": {
          "base_uri": "https://localhost:8080/"
        },
        "id": "_tge23JADje_",
        "outputId": "88ec46e8-f11c-4285-f74c-2140494d1a96"
      },
      "outputs": [
        {
          "name": "stdout",
          "output_type": "stream",
          "text": [
            "Q13. Write a program to swap the two numbers in python?\n",
            "Before: a =  5 , b =  10\n",
            "After: a =  10 b =  5\n"
          ]
        }
      ],
      "source": [
        "print('Q13. Write a program to swap the two numbers in python?')\n",
        "\n",
        "a=5\n",
        "b=10\n",
        "print('Before: a = ',a,\", b = \",b)\n",
        "(a,b)=(b,a)\n",
        "print('After: a = ',a,'b = ',b)"
      ]
    },
    {
      "cell_type": "code",
      "execution_count": 12,
      "metadata": {
        "colab": {
          "base_uri": "https://localhost:8080/"
        },
        "id": "1ai3ICZNE8nB",
        "outputId": "a80ccd14-7c41-47bb-931c-f30035171307"
      },
      "outputs": [
        {
          "name": "stdout",
          "output_type": "stream",
          "text": [
            "Q14. Write a palindrome program in python\n",
            "False\n",
            "True\n"
          ]
        }
      ],
      "source": [
        "print('Q14. Write a palindrome program in python')\n",
        "\n",
        "def palindrome (a):\n",
        "  l=len(a)\n",
        "  for i in range(l):\n",
        "    if a[i]!=a[l-i-1]:\n",
        "      return False\n",
        "  return True\n",
        "\n",
        "print(palindrome('abcabca'))\n",
        "print(palindrome('abcba'))"
      ]
    },
    {
      "cell_type": "markdown",
      "metadata": {
        "id": "8CwDOhP3DhA4"
      },
      "source": [
        "Q15. What is the use of numpy array over list?\n",
        "\n",
        "Ans. 1. Numpy takes lesser memory than lists.\n",
        "2. Numpy is more convenient. For e.g., we can directly add two numpy arrays while we have to use list comprehension in the case of lists\n",
        "3. Numpy is faster than lists"
      ]
    },
    {
      "cell_type": "markdown",
      "metadata": {
        "id": "xSDv53gDFqZl"
      },
      "source": [
        "Q16. Explain in brief about reshape in numpy with an example?\n",
        "\n",
        "Ans. Reshape changes the dimensions of the numpy array into the given dimensions. For example, the following code changes the given array from a 4x4 array to a 8x2 array."
      ]
    },
    {
      "cell_type": "code",
      "execution_count": 17,
      "metadata": {
        "colab": {
          "base_uri": "https://localhost:8080/"
        },
        "id": "MviopLVuGA2Y",
        "outputId": "574a2f71-27ac-434d-b3d1-ce8f5a554cee"
      },
      "outputs": [
        {
          "name": "stdout",
          "output_type": "stream",
          "text": [
            "[[ 1  2  3  4]\n",
            " [ 5  6  7  8]\n",
            " [ 9 10 11 12]\n",
            " [13 14 15 16]] \n",
            "\n",
            "[[ 1  2]\n",
            " [ 3  4]\n",
            " [ 5  6]\n",
            " [ 7  8]\n",
            " [ 9 10]\n",
            " [11 12]\n",
            " [13 14]\n",
            " [15 16]]\n"
          ]
        }
      ],
      "source": [
        "import numpy as np\n",
        "\n",
        "a = np.array([[1,2,3,4],[5,6,7,8],[9,10,11,12],[13,14,15,16]])\n",
        "\n",
        "print(a,'\\n')\n",
        "\n",
        "a=np.reshape(a,(8,2))\n",
        "print(a)"
      ]
    },
    {
      "cell_type": "markdown",
      "metadata": {
        "id": "e5sgheIpGbPY"
      },
      "source": [
        "Q17. What is the use of pandas explain in brief?\n",
        "\n",
        "Ans. Pandas is a powerful python library that can be imported and then used to analyse, manipulate and clean data.\n",
        "\n",
        "We can use pandas to import data in the form of data frames and then clean it to prepare it for further processing, e.g. machine learning. We can analyse the data by filtering it, printing summaries and stats of the data, and make modifications to it in order to clean it."
      ]
    },
    {
      "cell_type": "markdown",
      "metadata": {
        "id": "5d7HcsZeHCfs"
      },
      "source": [
        "Q18. What do you mean by supervised machine learning and unsupervised machine learning? Explain in brief?\n",
        "\n",
        "Ans. Supervised machine learning is the type of machine learning that uses labeled data, i.e. both independent and dependent variables, to create a model that can then predict the label of newly input data.\n",
        "\n",
        "Examples include regression (linear, multilinear, logistic etc.), decision tree, random forest, KNN etc.\n",
        "\n",
        "\n",
        "Unsupervised learning on the other hand uses data that is unlabeled, i.e. contains only independent variables and not dependent variables to create a model that figures out clusters or similar data points on its own.\n",
        "\n",
        "Examples include k-means clustering, etc."
      ]
    },
    {
      "cell_type": "markdown",
      "metadata": {
        "id": "_r2zGOkhIZtg"
      },
      "source": [
        "Q19. Differenciate between Decision tree and Random forest?\n",
        "\n",
        "Ans. A decision tree is the basic unit of a random forest.\n",
        "\n",
        "A decision tree is a structure in the form of one root nodes, several decision nodes and leaf nodes that contain the final output. We start from the root node, follow the branch that satisifies our condition and continue till we reach a leaf node, that contains the output.\n",
        "\n",
        "A random forest on the other hand is a collection of several decision trees."
      ]
    },
    {
      "cell_type": "markdown",
      "metadata": {
        "id": "Q4V3aloCJO_z"
      },
      "source": [
        "Q20. What do you mean by forward propagation and backward propagation in ANN?\n",
        "\n",
        "Ans. Forward propagation in an ANN is when we move forward, i.e. left to right, i.e. towards the direction of the output layer.\n",
        "\n",
        "Backward propagation is when we move in the opposite direction, towards the input layer, i.e. the output of a hidden layer or the output layer itself is used as the input in a previous layer. This is done to update weights and reduce loss."
      ]
    },
    {
      "cell_type": "markdown",
      "metadata": {
        "id": "DSmf-dWWKKVL"
      },
      "source": [
        "Q21. Explain the working flow of ANN and CNN?\n",
        "\n",
        "Ans. ANN consists of input layer, hidden layers, activation functions, bias, weights and output layer.\n",
        "\n",
        "We start from the input layer, that adds all the inputs multiplied by their weights, adds the bias and uses the activation function to produce an output which goes on to the next layer, and so on, until we reach the final output layer. During this process we also update weights to reduce loss.\n",
        "\n",
        "CNN consists of an input image, that goes through optional padding. Then several rounds (as required) of convolution, and pooling happen along with filters, to produce a fully connected layer. Then the output produced is flattened. This flattened image is used as input to the fully connected layer to produce a final output which could be a classification of the original image."
      ]
    },
    {
      "cell_type": "markdown",
      "metadata": {
        "id": "hBf3co35MkBv"
      },
      "source": [
        "Q22. What is the use of activation function and optimizers?\n",
        "\n",
        "Ans. Activation functions are used to transform inputs to outputs. They introduce non linearity to the network.\n",
        "\n",
        "Optimizers are used to minimize loss."
      ]
    },
    {
      "cell_type": "markdown",
      "metadata": {
        "id": "wzmJ_MopNCoM"
      },
      "source": [
        "Q23. What is the difference between R square and adjusted Rsquare?\n",
        "\n",
        "Ans. R square is simply the sum of squares of difference between actual and predicted values.\n",
        "\n",
        "Adjusted R square on the other hand is the R square value adjusted for the number of independent variables used to calculate the predictions. It is equal to 1 - [(1-Rsquare)(n-1)]/(n-k-1)], where n=no. of data points, and k=no. of independent variables. It helps us know if adding independent variables is benefitting our model or not."
      ]
    },
    {
      "cell_type": "markdown",
      "metadata": {
        "id": "ffgKj8bIOEan"
      },
      "source": [
        "Q24. What do you mean by LSTM in RNN?\n",
        "\n",
        "Ans. LSTM is short for long short term memory in RNN (recurrent neural networks).\n",
        "It is an improved version of RNN that uses feedback to remember long term dependencies unlike usual RNN that remembers only short term dependencies."
      ]
    },
    {
      "cell_type": "markdown",
      "metadata": {
        "id": "NEbCmvh_Oqwb"
      },
      "source": [
        "Q25. What is the use of image processing?\n",
        "\n",
        "Ans. Image processing is used to analyse images, build models for image classifications, manipulate images and modify their pixels, etc. It can be used in image classification, or editing of images to for example remove the background, etc."
      ]
    },
    {
      "cell_type": "markdown",
      "metadata": {
        "id": "gq-1uzn4PJZi"
      },
      "source": [
        "Q26. What are the steps involved in NLP?\n",
        "\n",
        "Ans. The steps involved in natural language processing are:\n",
        "\n",
        "1. Lexical analysis\n",
        "2. Syntactical analysis\n",
        "3. Semantic analysis\n",
        "4. Discourse integration\n",
        "5. Pragmatic analysis"
      ]
    },
    {
      "cell_type": "markdown",
      "metadata": {
        "id": "VHOxjapmPiGD"
      },
      "source": [
        "Q27. What do you mean by bias and variance?\n",
        "\n",
        "Ans. Bias is the model error that happens due to under fitting, or not viewing the data enough times to draw correct patterns from it.\n",
        "\n",
        "Variance on the other hand happens with over fitting, when the data is viewed too many times and results in the model being very accurate with the training data but failing with new data."
      ]
    },
    {
      "cell_type": "markdown",
      "metadata": {
        "id": "qzu7QZOvQjdg"
      },
      "source": [
        "Q28. What are the steps involved in machine learning to create model?\n",
        "\n",
        "Ans. To create a model, we:\n",
        "\n",
        "1. Import the dataset using which we have to create the model\n",
        "2. Perform EDA (exploratory data analysis), in which we understand the dataset\n",
        "3. Clean the dataset to handle NULL values, check the data types of columns, etc.\n",
        "4. Pre-processing in which we perform label encoding, binary encoding, scaling etc. and split our dataset into training and testing data\n",
        "5. Model creation using linear regression, logistic regression, KNN, etc. as required\n",
        "6. Evaluation and validation of model using metric analysis which includes metrics like accuracy, confusion matrix, etc."
      ]
    }
  ],
  "metadata": {
    "colab": {
      "provenance": []
    },
    "kernelspec": {
      "display_name": "Python 3",
      "name": "python3"
    },
    "language_info": {
      "name": "python"
    }
  },
  "nbformat": 4,
  "nbformat_minor": 0
}
